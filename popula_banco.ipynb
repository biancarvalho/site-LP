{
 "cells": [
  {
   "cell_type": "code",
   "execution_count": null,
   "metadata": {},
   "outputs": [],
   "source": [
    "#!pip install pandas\n",
    "#!pip install faker"
   ]
  },
  {
   "cell_type": "code",
   "execution_count": 2,
   "metadata": {},
   "outputs": [],
   "source": [
    "import sqlite3\n",
    "from faker import Faker\n",
    "from random import randint, choice\n",
    "import pandas as pd"
   ]
  },
  {
   "cell_type": "code",
   "execution_count": 3,
   "metadata": {},
   "outputs": [],
   "source": [
    "fake = Faker('pt_BR')"
   ]
  },
  {
   "cell_type": "markdown",
   "metadata": {},
   "source": [
    "# Conectando e entendendo o banco criado pelo Django"
   ]
  },
  {
   "cell_type": "code",
   "execution_count": 4,
   "metadata": {},
   "outputs": [],
   "source": [
    "conn = sqlite3.connect('db.sqlite3')"
   ]
  },
  {
   "cell_type": "code",
   "execution_count": 5,
   "metadata": {},
   "outputs": [],
   "source": [
    "cur = conn.cursor()"
   ]
  },
  {
   "cell_type": "markdown",
   "metadata": {},
   "source": [
    "## Vendo os nomes das tabelas que o Django criou"
   ]
  },
  {
   "cell_type": "code",
   "execution_count": 5,
   "metadata": {},
   "outputs": [
    {
     "name": "stdout",
     "output_type": "stream",
     "text": [
      "('django_migrations',)\n",
      "('auth_group_permissions',)\n",
      "('auth_user_groups',)\n",
      "('auth_user_user_permissions',)\n",
      "('django_admin_log',)\n",
      "('django_content_type',)\n",
      "('auth_permission',)\n",
      "('auth_group',)\n",
      "('auth_user',)\n",
      "('pages_interesses',)\n",
      "('django_session',)\n",
      "('pages_aluno',)\n",
      "('pages_aluno_interesses',)\n"
     ]
    }
   ],
   "source": [
    "query = '''\n",
    "SELECT name\n",
    "FROM sqlite_master \n",
    "WHERE type ='table' AND name NOT LIKE 'sqlite_%';\n",
    "'''\n",
    "\n",
    "cur.execute(query)\n",
    "for c in cur.fetchall():\n",
    "    print(c)"
   ]
  },
  {
   "cell_type": "markdown",
   "metadata": {},
   "source": [
    "## Acessando cada tabela"
   ]
  },
  {
   "cell_type": "code",
   "execution_count": 6,
   "metadata": {},
   "outputs": [
    {
     "data": {
      "text/html": [
       "<div>\n",
       "<style scoped>\n",
       "    .dataframe tbody tr th:only-of-type {\n",
       "        vertical-align: middle;\n",
       "    }\n",
       "\n",
       "    .dataframe tbody tr th {\n",
       "        vertical-align: top;\n",
       "    }\n",
       "\n",
       "    .dataframe thead th {\n",
       "        text-align: right;\n",
       "    }\n",
       "</style>\n",
       "<table border=\"1\" class=\"dataframe\">\n",
       "  <thead>\n",
       "    <tr style=\"text-align: right;\">\n",
       "      <th></th>\n",
       "      <th>id</th>\n",
       "      <th>categoria</th>\n",
       "      <th>grau</th>\n",
       "      <th>nome</th>\n",
       "    </tr>\n",
       "  </thead>\n",
       "  <tbody>\n",
       "    <tr>\n",
       "      <th>0</th>\n",
       "      <td>1</td>\n",
       "      <td>Arte</td>\n",
       "      <td>1</td>\n",
       "      <td>Música</td>\n",
       "    </tr>\n",
       "    <tr>\n",
       "      <th>1</th>\n",
       "      <td>2</td>\n",
       "      <td>Arte</td>\n",
       "      <td>2</td>\n",
       "      <td>Música</td>\n",
       "    </tr>\n",
       "  </tbody>\n",
       "</table>\n",
       "</div>"
      ],
      "text/plain": [
       "   id categoria  grau    nome\n",
       "0   1      Arte     1  Música\n",
       "1   2      Arte     2  Música"
      ]
     },
     "execution_count": 6,
     "metadata": {},
     "output_type": "execute_result"
    }
   ],
   "source": [
    "df = pd.read_sql_query('SELECT * FROM pages_interesses', conn)\n",
    "df.head()"
   ]
  },
  {
   "cell_type": "code",
   "execution_count": 7,
   "metadata": {},
   "outputs": [
    {
     "data": {
      "text/html": [
       "<div>\n",
       "<style scoped>\n",
       "    .dataframe tbody tr th:only-of-type {\n",
       "        vertical-align: middle;\n",
       "    }\n",
       "\n",
       "    .dataframe tbody tr th {\n",
       "        vertical-align: top;\n",
       "    }\n",
       "\n",
       "    .dataframe thead th {\n",
       "        text-align: right;\n",
       "    }\n",
       "</style>\n",
       "<table border=\"1\" class=\"dataframe\">\n",
       "  <thead>\n",
       "    <tr style=\"text-align: right;\">\n",
       "      <th></th>\n",
       "      <th>id</th>\n",
       "      <th>nome</th>\n",
       "      <th>idade</th>\n",
       "      <th>sexo</th>\n",
       "      <th>curso</th>\n",
       "      <th>periodo</th>\n",
       "    </tr>\n",
       "  </thead>\n",
       "  <tbody>\n",
       "    <tr>\n",
       "      <th>0</th>\n",
       "      <td>1</td>\n",
       "      <td>Cristiano Larréa</td>\n",
       "      <td>20</td>\n",
       "      <td>M</td>\n",
       "      <td>Ciência de Dados e Inteligência Artificial</td>\n",
       "      <td>2</td>\n",
       "    </tr>\n",
       "  </tbody>\n",
       "</table>\n",
       "</div>"
      ],
      "text/plain": [
       "   id              nome  idade sexo  \\\n",
       "0   1  Cristiano Larréa     20    M   \n",
       "\n",
       "                                        curso  periodo  \n",
       "0  Ciência de Dados e Inteligência Artificial        2  "
      ]
     },
     "execution_count": 7,
     "metadata": {},
     "output_type": "execute_result"
    }
   ],
   "source": [
    "df = pd.read_sql_query('SELECT * FROM pages_aluno', conn)\n",
    "df.head()"
   ]
  },
  {
   "cell_type": "code",
   "execution_count": 8,
   "metadata": {},
   "outputs": [
    {
     "data": {
      "text/html": [
       "<div>\n",
       "<style scoped>\n",
       "    .dataframe tbody tr th:only-of-type {\n",
       "        vertical-align: middle;\n",
       "    }\n",
       "\n",
       "    .dataframe tbody tr th {\n",
       "        vertical-align: top;\n",
       "    }\n",
       "\n",
       "    .dataframe thead th {\n",
       "        text-align: right;\n",
       "    }\n",
       "</style>\n",
       "<table border=\"1\" class=\"dataframe\">\n",
       "  <thead>\n",
       "    <tr style=\"text-align: right;\">\n",
       "      <th></th>\n",
       "      <th>id</th>\n",
       "      <th>aluno_id</th>\n",
       "      <th>interesses_id</th>\n",
       "    </tr>\n",
       "  </thead>\n",
       "  <tbody>\n",
       "    <tr>\n",
       "      <th>0</th>\n",
       "      <td>1</td>\n",
       "      <td>1</td>\n",
       "      <td>1</td>\n",
       "    </tr>\n",
       "  </tbody>\n",
       "</table>\n",
       "</div>"
      ],
      "text/plain": [
       "   id  aluno_id  interesses_id\n",
       "0   1         1              1"
      ]
     },
     "execution_count": 8,
     "metadata": {},
     "output_type": "execute_result"
    }
   ],
   "source": [
    "df = pd.read_sql_query('SELECT * FROM pages_aluno_interesses', conn)\n",
    "df.head()\n"
   ]
  },
  {
   "cell_type": "markdown",
   "metadata": {},
   "source": [
    "## Zerando os dados das tabelas"
   ]
  },
  {
   "cell_type": "code",
   "execution_count": 7,
   "metadata": {},
   "outputs": [
    {
     "data": {
      "text/plain": [
       "<sqlite3.Cursor at 0x1e028f4bab0>"
      ]
     },
     "execution_count": 7,
     "metadata": {},
     "output_type": "execute_result"
    }
   ],
   "source": [
    "cur.execute('DELETE FROM pages_interesses')\n",
    "cur.execute('DELETE FROM pages_aluno')\n",
    "cur.execute('DELETE FROM pages_aluno_interesses')"
   ]
  },
  {
   "cell_type": "code",
   "execution_count": 8,
   "metadata": {},
   "outputs": [],
   "source": [
    "cur.execute(\"SELECT * FROM pages_aluno\")\n",
    "for c in cur.fetchmany(15):\n",
    "    print(c)"
   ]
  },
  {
   "cell_type": "code",
   "execution_count": 9,
   "metadata": {},
   "outputs": [],
   "source": [
    "cur.execute(\"SELECT * FROM pages_interesses\")\n",
    "for c in cur.fetchmany(15):\n",
    "    print(c)"
   ]
  },
  {
   "cell_type": "code",
   "execution_count": 10,
   "metadata": {},
   "outputs": [],
   "source": [
    "cur.execute(\"SELECT * FROM pages_aluno_interesses\")\n",
    "for c in cur.fetchmany(15):\n",
    "    print(c)"
   ]
  },
  {
   "cell_type": "markdown",
   "metadata": {},
   "source": [
    "# Criando dados fakes"
   ]
  },
  {
   "cell_type": "markdown",
   "metadata": {},
   "source": [
    "## Tabela pages_interesses"
   ]
  },
  {
   "cell_type": "code",
   "execution_count": 11,
   "metadata": {},
   "outputs": [],
   "source": [
    "categorias = []\n",
    "categorias.extend(['Arte']*6)\n",
    "categorias.extend(['Esporte']*10)\n",
    "categorias.extend(['Entretenimento']*5)\n",
    "categorias.extend(['Estilos de Música']*12)\n",
    "categorias.extend(['Social']*9)"
   ]
  },
  {
   "cell_type": "code",
   "execution_count": 12,
   "metadata": {},
   "outputs": [],
   "source": [
    "nomes = ['Musica', 'Dança', 'Literatura', 'Museu', 'Cinema', 'Teatro',\n",
    "'Xadrez', 'Volei', 'Futebol', 'Handbol', 'Basquete', 'Tenis de Mesa', 'Natação', 'Crossfit', 'Musculação', 'Golfe',\n",
    "'Jogos', 'Séries', 'Filmes', 'Novelas', 'Livros',\n",
    "'Pop', 'Samba', 'Pagode', 'Sertanejo', 'R&B', 'Jazz', 'Blues', 'Piseiro', 'KPOP', 'Funk', 'Rap', 'Trap',\n",
    "'Festas', 'Boate', 'Churrasco', 'Roda de Samba', 'Passeio no Parque', 'Praia', 'Trilha', 'Piquenique', 'Montanhas']\n"
   ]
  },
  {
   "cell_type": "code",
   "execution_count": 13,
   "metadata": {},
   "outputs": [],
   "source": [
    "graus = []\n",
    "graus.extend([1]*42)\n",
    "graus.extend([2]*42)\n",
    "graus.extend([3]*42)\n",
    "graus.extend([4]*42)\n",
    "graus.extend([5]*42)"
   ]
  },
  {
   "cell_type": "code",
   "execution_count": 14,
   "metadata": {},
   "outputs": [],
   "source": [
    "ids = range(1,211)"
   ]
  },
  {
   "cell_type": "code",
   "execution_count": 15,
   "metadata": {},
   "outputs": [],
   "source": [
    "categorias.extend(categorias*4)\n",
    "nomes.extend(nomes*4)"
   ]
  },
  {
   "cell_type": "code",
   "execution_count": 16,
   "metadata": {},
   "outputs": [],
   "source": [
    "interesses = {\n",
    "    'id': ids,\n",
    "    'categoria': categorias,\n",
    "    'grau': graus,\n",
    "    'nome': nomes\n",
    "}\n",
    "df_int = pd.DataFrame(interesses)\n"
   ]
  },
  {
   "cell_type": "code",
   "execution_count": 17,
   "metadata": {},
   "outputs": [
    {
     "data": {
      "text/html": [
       "<div>\n",
       "<style scoped>\n",
       "    .dataframe tbody tr th:only-of-type {\n",
       "        vertical-align: middle;\n",
       "    }\n",
       "\n",
       "    .dataframe tbody tr th {\n",
       "        vertical-align: top;\n",
       "    }\n",
       "\n",
       "    .dataframe thead th {\n",
       "        text-align: right;\n",
       "    }\n",
       "</style>\n",
       "<table border=\"1\" class=\"dataframe\">\n",
       "  <thead>\n",
       "    <tr style=\"text-align: right;\">\n",
       "      <th></th>\n",
       "      <th>id</th>\n",
       "      <th>categoria</th>\n",
       "      <th>grau</th>\n",
       "      <th>nome</th>\n",
       "    </tr>\n",
       "  </thead>\n",
       "  <tbody>\n",
       "    <tr>\n",
       "      <th>0</th>\n",
       "      <td>1</td>\n",
       "      <td>Arte</td>\n",
       "      <td>1</td>\n",
       "      <td>Musica</td>\n",
       "    </tr>\n",
       "    <tr>\n",
       "      <th>1</th>\n",
       "      <td>2</td>\n",
       "      <td>Arte</td>\n",
       "      <td>1</td>\n",
       "      <td>Dança</td>\n",
       "    </tr>\n",
       "    <tr>\n",
       "      <th>2</th>\n",
       "      <td>3</td>\n",
       "      <td>Arte</td>\n",
       "      <td>1</td>\n",
       "      <td>Literatura</td>\n",
       "    </tr>\n",
       "    <tr>\n",
       "      <th>3</th>\n",
       "      <td>4</td>\n",
       "      <td>Arte</td>\n",
       "      <td>1</td>\n",
       "      <td>Museu</td>\n",
       "    </tr>\n",
       "    <tr>\n",
       "      <th>4</th>\n",
       "      <td>5</td>\n",
       "      <td>Arte</td>\n",
       "      <td>1</td>\n",
       "      <td>Cinema</td>\n",
       "    </tr>\n",
       "    <tr>\n",
       "      <th>...</th>\n",
       "      <td>...</td>\n",
       "      <td>...</td>\n",
       "      <td>...</td>\n",
       "      <td>...</td>\n",
       "    </tr>\n",
       "    <tr>\n",
       "      <th>205</th>\n",
       "      <td>206</td>\n",
       "      <td>Social</td>\n",
       "      <td>5</td>\n",
       "      <td>Passeio no Parque</td>\n",
       "    </tr>\n",
       "    <tr>\n",
       "      <th>206</th>\n",
       "      <td>207</td>\n",
       "      <td>Social</td>\n",
       "      <td>5</td>\n",
       "      <td>Praia</td>\n",
       "    </tr>\n",
       "    <tr>\n",
       "      <th>207</th>\n",
       "      <td>208</td>\n",
       "      <td>Social</td>\n",
       "      <td>5</td>\n",
       "      <td>Trilha</td>\n",
       "    </tr>\n",
       "    <tr>\n",
       "      <th>208</th>\n",
       "      <td>209</td>\n",
       "      <td>Social</td>\n",
       "      <td>5</td>\n",
       "      <td>Piquenique</td>\n",
       "    </tr>\n",
       "    <tr>\n",
       "      <th>209</th>\n",
       "      <td>210</td>\n",
       "      <td>Social</td>\n",
       "      <td>5</td>\n",
       "      <td>Montanhas</td>\n",
       "    </tr>\n",
       "  </tbody>\n",
       "</table>\n",
       "<p>210 rows × 4 columns</p>\n",
       "</div>"
      ],
      "text/plain": [
       "      id categoria  grau               nome\n",
       "0      1      Arte     1             Musica\n",
       "1      2      Arte     1              Dança\n",
       "2      3      Arte     1         Literatura\n",
       "3      4      Arte     1              Museu\n",
       "4      5      Arte     1             Cinema\n",
       "..   ...       ...   ...                ...\n",
       "205  206    Social     5  Passeio no Parque\n",
       "206  207    Social     5              Praia\n",
       "207  208    Social     5             Trilha\n",
       "208  209    Social     5         Piquenique\n",
       "209  210    Social     5          Montanhas\n",
       "\n",
       "[210 rows x 4 columns]"
      ]
     },
     "execution_count": 17,
     "metadata": {},
     "output_type": "execute_result"
    }
   ],
   "source": [
    "df_int"
   ]
  },
  {
   "cell_type": "markdown",
   "metadata": {},
   "source": [
    "## Tabela pages_alunos"
   ]
  },
  {
   "cell_type": "code",
   "execution_count": 18,
   "metadata": {},
   "outputs": [],
   "source": [
    "alunos = {\n",
    "    'id': [],\n",
    "    'nome':[],\n",
    "    'idade':[],\n",
    "    'sexo':[],\n",
    "    'curso':[],\n",
    "    'periodo':[]\n",
    "}\n",
    "\n",
    "\n",
    "for id in range(1,401):\n",
    "    alunos['id'].append(id)\n",
    "    alunos['nome'].append(fake.name())\n",
    "    alunos['idade'].append(randint(15,50))\n",
    "    alunos['sexo'].append(choice(['M','F']))\n",
    "    alunos['curso'].append(choice(['Ciência de Dados e Inteligência Artificial', 'Matemática Aplicada']))\n",
    "    alunos['periodo'].append(randint(1,8))"
   ]
  },
  {
   "cell_type": "code",
   "execution_count": 19,
   "metadata": {},
   "outputs": [],
   "source": [
    "df_alunos = pd.DataFrame(alunos)"
   ]
  },
  {
   "cell_type": "code",
   "execution_count": 20,
   "metadata": {},
   "outputs": [
    {
     "data": {
      "text/html": [
       "<div>\n",
       "<style scoped>\n",
       "    .dataframe tbody tr th:only-of-type {\n",
       "        vertical-align: middle;\n",
       "    }\n",
       "\n",
       "    .dataframe tbody tr th {\n",
       "        vertical-align: top;\n",
       "    }\n",
       "\n",
       "    .dataframe thead th {\n",
       "        text-align: right;\n",
       "    }\n",
       "</style>\n",
       "<table border=\"1\" class=\"dataframe\">\n",
       "  <thead>\n",
       "    <tr style=\"text-align: right;\">\n",
       "      <th></th>\n",
       "      <th>id</th>\n",
       "      <th>nome</th>\n",
       "      <th>idade</th>\n",
       "      <th>sexo</th>\n",
       "      <th>curso</th>\n",
       "      <th>periodo</th>\n",
       "    </tr>\n",
       "  </thead>\n",
       "  <tbody>\n",
       "    <tr>\n",
       "      <th>0</th>\n",
       "      <td>1</td>\n",
       "      <td>Dra. Milena Moura</td>\n",
       "      <td>30</td>\n",
       "      <td>F</td>\n",
       "      <td>Ciência de Dados e Inteligência Artificial</td>\n",
       "      <td>3</td>\n",
       "    </tr>\n",
       "    <tr>\n",
       "      <th>1</th>\n",
       "      <td>2</td>\n",
       "      <td>Laura Dias</td>\n",
       "      <td>31</td>\n",
       "      <td>F</td>\n",
       "      <td>Ciência de Dados e Inteligência Artificial</td>\n",
       "      <td>4</td>\n",
       "    </tr>\n",
       "    <tr>\n",
       "      <th>2</th>\n",
       "      <td>3</td>\n",
       "      <td>Bernardo Silva</td>\n",
       "      <td>30</td>\n",
       "      <td>M</td>\n",
       "      <td>Ciência de Dados e Inteligência Artificial</td>\n",
       "      <td>4</td>\n",
       "    </tr>\n",
       "    <tr>\n",
       "      <th>3</th>\n",
       "      <td>4</td>\n",
       "      <td>Lucas Gabriel Silva</td>\n",
       "      <td>17</td>\n",
       "      <td>F</td>\n",
       "      <td>Matemática Aplicada</td>\n",
       "      <td>6</td>\n",
       "    </tr>\n",
       "    <tr>\n",
       "      <th>4</th>\n",
       "      <td>5</td>\n",
       "      <td>Maria Cecília Viana</td>\n",
       "      <td>32</td>\n",
       "      <td>F</td>\n",
       "      <td>Matemática Aplicada</td>\n",
       "      <td>3</td>\n",
       "    </tr>\n",
       "    <tr>\n",
       "      <th>...</th>\n",
       "      <td>...</td>\n",
       "      <td>...</td>\n",
       "      <td>...</td>\n",
       "      <td>...</td>\n",
       "      <td>...</td>\n",
       "      <td>...</td>\n",
       "    </tr>\n",
       "    <tr>\n",
       "      <th>395</th>\n",
       "      <td>396</td>\n",
       "      <td>Vitor Pinto</td>\n",
       "      <td>23</td>\n",
       "      <td>F</td>\n",
       "      <td>Matemática Aplicada</td>\n",
       "      <td>2</td>\n",
       "    </tr>\n",
       "    <tr>\n",
       "      <th>396</th>\n",
       "      <td>397</td>\n",
       "      <td>Miguel Carvalho</td>\n",
       "      <td>22</td>\n",
       "      <td>F</td>\n",
       "      <td>Ciência de Dados e Inteligência Artificial</td>\n",
       "      <td>6</td>\n",
       "    </tr>\n",
       "    <tr>\n",
       "      <th>397</th>\n",
       "      <td>398</td>\n",
       "      <td>Dr. Danilo Dias</td>\n",
       "      <td>28</td>\n",
       "      <td>M</td>\n",
       "      <td>Matemática Aplicada</td>\n",
       "      <td>5</td>\n",
       "    </tr>\n",
       "    <tr>\n",
       "      <th>398</th>\n",
       "      <td>399</td>\n",
       "      <td>Luna Moreira</td>\n",
       "      <td>23</td>\n",
       "      <td>M</td>\n",
       "      <td>Matemática Aplicada</td>\n",
       "      <td>1</td>\n",
       "    </tr>\n",
       "    <tr>\n",
       "      <th>399</th>\n",
       "      <td>400</td>\n",
       "      <td>Sr. Marcelo Pinto</td>\n",
       "      <td>21</td>\n",
       "      <td>F</td>\n",
       "      <td>Ciência de Dados e Inteligência Artificial</td>\n",
       "      <td>2</td>\n",
       "    </tr>\n",
       "  </tbody>\n",
       "</table>\n",
       "<p>400 rows × 6 columns</p>\n",
       "</div>"
      ],
      "text/plain": [
       "      id                 nome  idade sexo  \\\n",
       "0      1    Dra. Milena Moura     30    F   \n",
       "1      2           Laura Dias     31    F   \n",
       "2      3       Bernardo Silva     30    M   \n",
       "3      4  Lucas Gabriel Silva     17    F   \n",
       "4      5  Maria Cecília Viana     32    F   \n",
       "..   ...                  ...    ...  ...   \n",
       "395  396          Vitor Pinto     23    F   \n",
       "396  397      Miguel Carvalho     22    F   \n",
       "397  398      Dr. Danilo Dias     28    M   \n",
       "398  399         Luna Moreira     23    M   \n",
       "399  400    Sr. Marcelo Pinto     21    F   \n",
       "\n",
       "                                          curso  periodo  \n",
       "0    Ciência de Dados e Inteligência Artificial        3  \n",
       "1    Ciência de Dados e Inteligência Artificial        4  \n",
       "2    Ciência de Dados e Inteligência Artificial        4  \n",
       "3                           Matemática Aplicada        6  \n",
       "4                           Matemática Aplicada        3  \n",
       "..                                          ...      ...  \n",
       "395                         Matemática Aplicada        2  \n",
       "396  Ciência de Dados e Inteligência Artificial        6  \n",
       "397                         Matemática Aplicada        5  \n",
       "398                         Matemática Aplicada        1  \n",
       "399  Ciência de Dados e Inteligência Artificial        2  \n",
       "\n",
       "[400 rows x 6 columns]"
      ]
     },
     "execution_count": 20,
     "metadata": {},
     "output_type": "execute_result"
    }
   ],
   "source": [
    "df_alunos"
   ]
  },
  {
   "cell_type": "markdown",
   "metadata": {},
   "source": [
    "## Tabela pages_interesses_alunos"
   ]
  },
  {
   "cell_type": "code",
   "execution_count": 21,
   "metadata": {},
   "outputs": [],
   "source": [
    "aluno_interesses = {\n",
    "    'id': [],\n",
    "    'aluno_id': [],\n",
    "    'interesses_id': []\n",
    "}"
   ]
  },
  {
   "cell_type": "code",
   "execution_count": 22,
   "metadata": {},
   "outputs": [],
   "source": [
    "for id in range(1, 1501):\n",
    "    aluno_interesses['id'].append(id),\n",
    "    aluno_interesses['aluno_id'].append(randint(1,400)),\n",
    "    aluno_interesses['interesses_id'].append(randint(1,210))"
   ]
  },
  {
   "cell_type": "code",
   "execution_count": 23,
   "metadata": {},
   "outputs": [
    {
     "data": {
      "text/html": [
       "<div>\n",
       "<style scoped>\n",
       "    .dataframe tbody tr th:only-of-type {\n",
       "        vertical-align: middle;\n",
       "    }\n",
       "\n",
       "    .dataframe tbody tr th {\n",
       "        vertical-align: top;\n",
       "    }\n",
       "\n",
       "    .dataframe thead th {\n",
       "        text-align: right;\n",
       "    }\n",
       "</style>\n",
       "<table border=\"1\" class=\"dataframe\">\n",
       "  <thead>\n",
       "    <tr style=\"text-align: right;\">\n",
       "      <th></th>\n",
       "      <th>id</th>\n",
       "      <th>aluno_id</th>\n",
       "      <th>interesses_id</th>\n",
       "    </tr>\n",
       "  </thead>\n",
       "  <tbody>\n",
       "    <tr>\n",
       "      <th>0</th>\n",
       "      <td>1</td>\n",
       "      <td>220</td>\n",
       "      <td>166</td>\n",
       "    </tr>\n",
       "    <tr>\n",
       "      <th>1</th>\n",
       "      <td>2</td>\n",
       "      <td>344</td>\n",
       "      <td>62</td>\n",
       "    </tr>\n",
       "    <tr>\n",
       "      <th>2</th>\n",
       "      <td>3</td>\n",
       "      <td>347</td>\n",
       "      <td>53</td>\n",
       "    </tr>\n",
       "    <tr>\n",
       "      <th>3</th>\n",
       "      <td>4</td>\n",
       "      <td>348</td>\n",
       "      <td>189</td>\n",
       "    </tr>\n",
       "    <tr>\n",
       "      <th>4</th>\n",
       "      <td>5</td>\n",
       "      <td>33</td>\n",
       "      <td>135</td>\n",
       "    </tr>\n",
       "    <tr>\n",
       "      <th>...</th>\n",
       "      <td>...</td>\n",
       "      <td>...</td>\n",
       "      <td>...</td>\n",
       "    </tr>\n",
       "    <tr>\n",
       "      <th>1495</th>\n",
       "      <td>1496</td>\n",
       "      <td>146</td>\n",
       "      <td>190</td>\n",
       "    </tr>\n",
       "    <tr>\n",
       "      <th>1496</th>\n",
       "      <td>1497</td>\n",
       "      <td>194</td>\n",
       "      <td>139</td>\n",
       "    </tr>\n",
       "    <tr>\n",
       "      <th>1497</th>\n",
       "      <td>1498</td>\n",
       "      <td>81</td>\n",
       "      <td>203</td>\n",
       "    </tr>\n",
       "    <tr>\n",
       "      <th>1498</th>\n",
       "      <td>1499</td>\n",
       "      <td>249</td>\n",
       "      <td>135</td>\n",
       "    </tr>\n",
       "    <tr>\n",
       "      <th>1499</th>\n",
       "      <td>1500</td>\n",
       "      <td>190</td>\n",
       "      <td>165</td>\n",
       "    </tr>\n",
       "  </tbody>\n",
       "</table>\n",
       "<p>1500 rows × 3 columns</p>\n",
       "</div>"
      ],
      "text/plain": [
       "        id  aluno_id  interesses_id\n",
       "0        1       220            166\n",
       "1        2       344             62\n",
       "2        3       347             53\n",
       "3        4       348            189\n",
       "4        5        33            135\n",
       "...    ...       ...            ...\n",
       "1495  1496       146            190\n",
       "1496  1497       194            139\n",
       "1497  1498        81            203\n",
       "1498  1499       249            135\n",
       "1499  1500       190            165\n",
       "\n",
       "[1500 rows x 3 columns]"
      ]
     },
     "execution_count": 23,
     "metadata": {},
     "output_type": "execute_result"
    }
   ],
   "source": [
    "df_alunos_interesses = pd.DataFrame(aluno_interesses)\n",
    "df_alunos_interesses"
   ]
  },
  {
   "cell_type": "markdown",
   "metadata": {},
   "source": [
    "# Registrando dados no banco"
   ]
  },
  {
   "cell_type": "code",
   "execution_count": 24,
   "metadata": {},
   "outputs": [],
   "source": [
    "data_int = []\n",
    "for i in range(0,len(df_int)):\n",
    "    tuple = (int(df_int['id'][i]), str(df_int['categoria'][i]), int(df_int['grau'][i]), (str(df_int['nome'][i])))\n",
    "    data_int.append(tuple)"
   ]
  },
  {
   "cell_type": "code",
   "execution_count": 25,
   "metadata": {},
   "outputs": [
    {
     "data": {
      "text/plain": [
       "<sqlite3.Cursor at 0x1e028f4bab0>"
      ]
     },
     "execution_count": 25,
     "metadata": {},
     "output_type": "execute_result"
    }
   ],
   "source": [
    "cur.executemany('INSERT INTO pages_interesses VALUES (?,?,?,?)', data_int)"
   ]
  },
  {
   "cell_type": "code",
   "execution_count": 26,
   "metadata": {},
   "outputs": [
    {
     "name": "stdout",
     "output_type": "stream",
     "text": [
      "(1, 'Arte', 1, 'Musica')\n",
      "(2, 'Arte', 1, 'Dança')\n",
      "(3, 'Arte', 1, 'Literatura')\n",
      "(4, 'Arte', 1, 'Museu')\n",
      "(5, 'Arte', 1, 'Cinema')\n",
      "(6, 'Arte', 1, 'Teatro')\n",
      "(7, 'Esporte', 1, 'Xadrez')\n",
      "(8, 'Esporte', 1, 'Volei')\n",
      "(9, 'Esporte', 1, 'Futebol')\n",
      "(10, 'Esporte', 1, 'Handbol')\n",
      "(11, 'Esporte', 1, 'Basquete')\n",
      "(12, 'Esporte', 1, 'Tenis de Mesa')\n",
      "(13, 'Esporte', 1, 'Natação')\n",
      "(14, 'Esporte', 1, 'Crossfit')\n",
      "(15, 'Esporte', 1, 'Musculação')\n"
     ]
    }
   ],
   "source": [
    "cur.execute(\"SELECT * FROM pages_interesses\")\n",
    "for c in cur.fetchmany(15):\n",
    "    print(c)"
   ]
  },
  {
   "cell_type": "code",
   "execution_count": 27,
   "metadata": {},
   "outputs": [],
   "source": [
    "data_alunos = []\n",
    "for i in range(0,len(df_alunos)):\n",
    "    tuple = (int(df_alunos['id'][i]), str(df_alunos['nome'][i]), str(df_alunos['sexo'][i]), int(df_alunos['idade'][i]), str(df_alunos['curso'][i]), int(df_alunos['periodo'][i]))\n",
    "    data_alunos.append(tuple)"
   ]
  },
  {
   "cell_type": "code",
   "execution_count": 28,
   "metadata": {},
   "outputs": [
    {
     "data": {
      "text/plain": [
       "<sqlite3.Cursor at 0x1e028f4bab0>"
      ]
     },
     "execution_count": 28,
     "metadata": {},
     "output_type": "execute_result"
    }
   ],
   "source": [
    "cur.executemany('INSERT INTO pages_aluno VALUES (?,?,?,?,?,?)', data_alunos)"
   ]
  },
  {
   "cell_type": "code",
   "execution_count": 29,
   "metadata": {},
   "outputs": [
    {
     "name": "stdout",
     "output_type": "stream",
     "text": [
      "(1, 'Dra. Milena Moura', 'F', '30', 'Ciência de Dados e Inteligência Artificial', 3)\n",
      "(2, 'Laura Dias', 'F', '31', 'Ciência de Dados e Inteligência Artificial', 4)\n",
      "(3, 'Bernardo Silva', 'M', '30', 'Ciência de Dados e Inteligência Artificial', 4)\n",
      "(4, 'Lucas Gabriel Silva', 'F', '17', 'Matemática Aplicada', 6)\n",
      "(5, 'Maria Cecília Viana', 'F', '32', 'Matemática Aplicada', 3)\n",
      "(6, 'Dr. Pedro Henrique Cardoso', 'M', '35', 'Ciência de Dados e Inteligência Artificial', 5)\n",
      "(7, 'Fernanda Lopes', 'M', '24', 'Ciência de Dados e Inteligência Artificial', 5)\n",
      "(8, 'Maria Eduarda Novaes', 'F', '28', 'Matemática Aplicada', 1)\n",
      "(9, 'Esther Duarte', 'F', '18', 'Matemática Aplicada', 3)\n",
      "(10, 'Daniela Oliveira', 'F', '49', 'Ciência de Dados e Inteligência Artificial', 2)\n",
      "(11, 'Clara Silva', 'F', '40', 'Ciência de Dados e Inteligência Artificial', 7)\n",
      "(12, 'Vitor Hugo Sales', 'F', '39', 'Matemática Aplicada', 1)\n",
      "(13, 'Maria Vitória Pinto', 'F', '48', 'Ciência de Dados e Inteligência Artificial', 3)\n",
      "(14, 'Brenda Oliveira', 'F', '32', 'Ciência de Dados e Inteligência Artificial', 3)\n",
      "(15, 'Helena Cunha', 'F', '46', 'Ciência de Dados e Inteligência Artificial', 4)\n"
     ]
    }
   ],
   "source": [
    "cur.execute(\"SELECT * FROM pages_aluno\")\n",
    "for c in cur.fetchmany(15):\n",
    "    print(c)"
   ]
  },
  {
   "cell_type": "code",
   "execution_count": 30,
   "metadata": {},
   "outputs": [],
   "source": [
    "data_int_alunos = []\n",
    "for i in range(0,len(df_alunos_interesses)):\n",
    "    tuple = (int(df_alunos_interesses['id'][i]), int(df_alunos_interesses['aluno_id'][i]), int(df_alunos_interesses['interesses_id'][i]))\n",
    "    data_int_alunos.append(tuple)"
   ]
  },
  {
   "cell_type": "code",
   "execution_count": 31,
   "metadata": {},
   "outputs": [
    {
     "ename": "IntegrityError",
     "evalue": "UNIQUE constraint failed: pages_aluno_interesses.aluno_id, pages_aluno_interesses.interesses_id",
     "output_type": "error",
     "traceback": [
      "\u001b[1;31m---------------------------------------------------------------------------\u001b[0m",
      "\u001b[1;31mIntegrityError\u001b[0m                            Traceback (most recent call last)",
      "\u001b[1;32mC:\\Users\\CRISTI~1.LEA\\AppData\\Local\\Temp/ipykernel_17556/1851386515.py\u001b[0m in \u001b[0;36m<module>\u001b[1;34m\u001b[0m\n\u001b[1;32m----> 1\u001b[1;33m \u001b[0mcur\u001b[0m\u001b[1;33m.\u001b[0m\u001b[0mexecutemany\u001b[0m\u001b[1;33m(\u001b[0m\u001b[1;34m'INSERT INTO pages_aluno_interesses VALUES (?,?,?)'\u001b[0m\u001b[1;33m,\u001b[0m \u001b[0mdata_int_alunos\u001b[0m\u001b[1;33m)\u001b[0m\u001b[1;33m\u001b[0m\u001b[1;33m\u001b[0m\u001b[0m\n\u001b[0m",
      "\u001b[1;31mIntegrityError\u001b[0m: UNIQUE constraint failed: pages_aluno_interesses.aluno_id, pages_aluno_interesses.interesses_id"
     ]
    }
   ],
   "source": [
    "cur.executemany('INSERT INTO pages_aluno_interesses VALUES (?,?,?)', data_int_alunos)"
   ]
  },
  {
   "cell_type": "markdown",
   "metadata": {},
   "source": [
    "Está aceitando só 270 registros!"
   ]
  },
  {
   "cell_type": "code",
   "execution_count": 32,
   "metadata": {},
   "outputs": [
    {
     "name": "stdout",
     "output_type": "stream",
     "text": [
      "(1, 220, 166)\n",
      "(2, 344, 62)\n",
      "(3, 347, 53)\n",
      "(4, 348, 189)\n",
      "(5, 33, 135)\n",
      "(6, 393, 20)\n",
      "(7, 186, 48)\n",
      "(8, 186, 85)\n",
      "(9, 261, 74)\n",
      "(10, 153, 175)\n",
      "(11, 84, 74)\n",
      "(12, 15, 64)\n",
      "(13, 173, 39)\n",
      "(14, 383, 209)\n",
      "(15, 172, 120)\n",
      "(16, 63, 88)\n",
      "(17, 265, 24)\n",
      "(18, 396, 115)\n",
      "(19, 144, 87)\n",
      "(20, 77, 70)\n",
      "(21, 28, 98)\n",
      "(22, 280, 208)\n",
      "(23, 26, 130)\n",
      "(24, 168, 31)\n",
      "(25, 125, 3)\n",
      "(26, 269, 150)\n",
      "(27, 339, 46)\n",
      "(28, 88, 135)\n",
      "(29, 51, 108)\n",
      "(30, 45, 68)\n",
      "(31, 112, 94)\n",
      "(32, 135, 173)\n",
      "(33, 252, 119)\n",
      "(34, 165, 51)\n",
      "(35, 62, 63)\n",
      "(36, 25, 84)\n",
      "(37, 96, 23)\n",
      "(38, 266, 123)\n",
      "(39, 262, 168)\n",
      "(40, 346, 124)\n",
      "(41, 314, 41)\n",
      "(42, 229, 200)\n",
      "(43, 88, 64)\n",
      "(44, 286, 98)\n",
      "(45, 374, 193)\n",
      "(46, 311, 197)\n",
      "(47, 396, 112)\n",
      "(48, 96, 79)\n",
      "(49, 60, 134)\n",
      "(50, 163, 139)\n",
      "(51, 131, 181)\n",
      "(52, 133, 150)\n",
      "(53, 330, 21)\n",
      "(54, 334, 165)\n",
      "(55, 249, 204)\n",
      "(56, 90, 28)\n",
      "(57, 93, 170)\n",
      "(58, 354, 100)\n",
      "(59, 168, 70)\n",
      "(60, 337, 169)\n",
      "(61, 18, 202)\n",
      "(62, 94, 118)\n",
      "(63, 336, 92)\n",
      "(64, 83, 195)\n",
      "(65, 85, 179)\n",
      "(66, 158, 17)\n",
      "(67, 367, 143)\n",
      "(68, 156, 57)\n",
      "(69, 331, 202)\n",
      "(70, 304, 7)\n",
      "(71, 29, 113)\n",
      "(72, 271, 111)\n",
      "(73, 36, 156)\n",
      "(74, 400, 139)\n",
      "(75, 43, 204)\n",
      "(76, 72, 11)\n",
      "(77, 229, 199)\n",
      "(78, 97, 7)\n",
      "(79, 274, 91)\n",
      "(80, 34, 136)\n",
      "(81, 38, 34)\n",
      "(82, 349, 98)\n",
      "(83, 25, 90)\n",
      "(84, 6, 49)\n",
      "(85, 98, 53)\n",
      "(86, 89, 190)\n",
      "(87, 96, 192)\n",
      "(88, 186, 74)\n",
      "(89, 149, 167)\n",
      "(90, 125, 119)\n",
      "(91, 46, 154)\n",
      "(92, 115, 83)\n",
      "(93, 244, 63)\n",
      "(94, 87, 94)\n",
      "(95, 14, 15)\n",
      "(96, 353, 94)\n",
      "(97, 7, 172)\n",
      "(98, 88, 58)\n",
      "(99, 115, 111)\n",
      "(100, 395, 95)\n",
      "(101, 356, 61)\n",
      "(102, 94, 123)\n",
      "(103, 239, 22)\n",
      "(104, 168, 120)\n",
      "(105, 227, 196)\n",
      "(106, 204, 113)\n",
      "(107, 53, 187)\n",
      "(108, 241, 88)\n",
      "(109, 170, 113)\n",
      "(110, 196, 163)\n",
      "(111, 191, 149)\n",
      "(112, 27, 127)\n",
      "(113, 346, 83)\n",
      "(114, 108, 186)\n",
      "(115, 327, 131)\n",
      "(116, 22, 28)\n",
      "(117, 199, 30)\n",
      "(118, 248, 83)\n",
      "(119, 358, 173)\n",
      "(120, 178, 4)\n",
      "(121, 277, 71)\n",
      "(122, 234, 1)\n",
      "(123, 88, 181)\n",
      "(124, 174, 155)\n",
      "(125, 386, 49)\n",
      "(126, 225, 51)\n",
      "(127, 296, 129)\n",
      "(128, 203, 98)\n",
      "(129, 230, 203)\n",
      "(130, 46, 132)\n",
      "(131, 224, 144)\n",
      "(132, 153, 8)\n",
      "(133, 284, 47)\n",
      "(134, 209, 42)\n",
      "(135, 387, 113)\n",
      "(136, 332, 104)\n",
      "(137, 46, 135)\n",
      "(138, 182, 25)\n",
      "(139, 157, 46)\n",
      "(140, 209, 51)\n",
      "(141, 84, 72)\n",
      "(142, 164, 64)\n",
      "(143, 251, 199)\n",
      "(144, 69, 153)\n",
      "(145, 81, 159)\n",
      "(146, 159, 160)\n",
      "(147, 13, 62)\n",
      "(148, 129, 115)\n",
      "(149, 240, 185)\n",
      "(150, 305, 198)\n",
      "(151, 164, 11)\n",
      "(152, 102, 124)\n",
      "(153, 187, 138)\n",
      "(154, 55, 150)\n",
      "(155, 335, 57)\n",
      "(156, 75, 69)\n",
      "(157, 312, 181)\n",
      "(158, 202, 197)\n",
      "(159, 291, 195)\n",
      "(160, 383, 73)\n",
      "(161, 147, 204)\n",
      "(162, 11, 169)\n",
      "(163, 16, 5)\n",
      "(164, 260, 93)\n",
      "(165, 63, 142)\n",
      "(166, 8, 15)\n",
      "(167, 370, 190)\n",
      "(168, 149, 135)\n",
      "(169, 68, 130)\n",
      "(170, 360, 197)\n",
      "(171, 57, 24)\n",
      "(172, 5, 206)\n",
      "(173, 128, 88)\n",
      "(174, 80, 26)\n",
      "(175, 36, 151)\n",
      "(176, 379, 82)\n",
      "(177, 164, 207)\n",
      "(178, 166, 199)\n",
      "(179, 89, 91)\n",
      "(180, 73, 21)\n",
      "(181, 168, 193)\n",
      "(182, 140, 127)\n",
      "(183, 351, 74)\n",
      "(184, 170, 3)\n",
      "(185, 324, 185)\n",
      "(186, 314, 49)\n",
      "(187, 225, 35)\n",
      "(188, 353, 192)\n",
      "(189, 379, 43)\n",
      "(190, 113, 40)\n",
      "(191, 319, 77)\n",
      "(192, 121, 201)\n",
      "(193, 197, 113)\n",
      "(194, 23, 66)\n",
      "(195, 64, 58)\n",
      "(196, 19, 192)\n",
      "(197, 45, 108)\n",
      "(198, 210, 68)\n",
      "(199, 359, 37)\n",
      "(200, 42, 122)\n",
      "(201, 81, 71)\n",
      "(202, 314, 188)\n",
      "(203, 31, 203)\n",
      "(204, 94, 208)\n",
      "(205, 285, 33)\n",
      "(206, 264, 91)\n",
      "(207, 324, 83)\n",
      "(208, 370, 86)\n",
      "(209, 245, 39)\n",
      "(210, 372, 123)\n",
      "(211, 381, 172)\n",
      "(212, 339, 168)\n",
      "(213, 138, 174)\n",
      "(214, 124, 168)\n",
      "(215, 64, 71)\n",
      "(216, 244, 200)\n",
      "(217, 349, 89)\n",
      "(218, 280, 173)\n",
      "(219, 154, 113)\n",
      "(220, 105, 170)\n",
      "(221, 129, 199)\n",
      "(222, 85, 139)\n",
      "(223, 121, 15)\n",
      "(224, 247, 91)\n",
      "(225, 332, 73)\n",
      "(226, 316, 90)\n",
      "(227, 93, 173)\n",
      "(228, 352, 149)\n",
      "(229, 291, 138)\n",
      "(230, 8, 192)\n",
      "(231, 343, 41)\n",
      "(232, 291, 89)\n",
      "(233, 238, 182)\n",
      "(234, 384, 134)\n",
      "(235, 82, 60)\n",
      "(236, 148, 181)\n",
      "(237, 312, 102)\n",
      "(238, 276, 47)\n",
      "(239, 291, 86)\n",
      "(240, 389, 129)\n",
      "(241, 15, 90)\n",
      "(242, 316, 29)\n",
      "(243, 38, 145)\n",
      "(244, 371, 26)\n",
      "(245, 84, 96)\n",
      "(246, 351, 162)\n",
      "(247, 214, 164)\n",
      "(248, 351, 7)\n",
      "(249, 65, 164)\n",
      "(250, 391, 49)\n",
      "(251, 140, 173)\n",
      "(252, 208, 129)\n",
      "(253, 298, 77)\n",
      "(254, 233, 172)\n",
      "(255, 180, 88)\n",
      "(256, 302, 74)\n",
      "(257, 184, 75)\n",
      "(258, 315, 98)\n",
      "(259, 364, 183)\n",
      "(260, 149, 203)\n",
      "(261, 302, 99)\n",
      "(262, 354, 115)\n",
      "(263, 301, 145)\n",
      "(264, 318, 3)\n",
      "(265, 238, 175)\n",
      "(266, 86, 55)\n",
      "(267, 49, 141)\n"
     ]
    }
   ],
   "source": [
    "cur.execute(\"SELECT * FROM pages_aluno_interesses\")\n",
    "for c in cur.fetchmany(500):\n",
    "    print(c)\n"
   ]
  },
  {
   "cell_type": "code",
   "execution_count": null,
   "metadata": {},
   "outputs": [],
   "source": [
    "conn.commit()"
   ]
  },
  {
   "cell_type": "markdown",
   "metadata": {},
   "source": [
    "## Analisando estrutura da tabela pages_aluno_interesses"
   ]
  },
  {
   "cell_type": "code",
   "execution_count": 38,
   "metadata": {},
   "outputs": [
    {
     "name": "stdout",
     "output_type": "stream",
     "text": [
      "CREATE TABLE \"pages_aluno_interesses\" (\"id\" integer NOT NULL PRIMARY KEY AUTOINCREMENT, \"aluno_id\" bigint NOT NULL REFERENCES \"pages_aluno\" (\"id\") DEFERRABLE INITIALLY DEFERRED, \"interesses_id\" bigint NOT NULL REFERENCES \"pages_interesses\" (\"id\") DEFERRABLE INITIALLY DEFERRED)\n"
     ]
    }
   ],
   "source": [
    "query = '''\n",
    "SELECT sql\n",
    "FROM sqlite_master\n",
    "WHERE name = 'pages_aluno_interesses';\n",
    "'''\n",
    "\n",
    "cur.execute(query)\n",
    "for c in cur.fetchall():\n",
    "    print(c[0])"
   ]
  },
  {
   "cell_type": "code",
   "execution_count": 33,
   "metadata": {},
   "outputs": [],
   "source": [
    "conn.commit()\n",
    "conn.close()"
   ]
  },
  {
   "cell_type": "code",
   "execution_count": null,
   "metadata": {},
   "outputs": [],
   "source": []
  }
 ],
 "metadata": {
  "interpreter": {
   "hash": "acf48dcef7adde6c697f97d4995469a9df8e0f5814466a26b0cffe11cb2c6fb0"
  },
  "kernelspec": {
   "display_name": "Python 3.8.8 64-bit ('venv': venv)",
   "language": "python",
   "name": "python3"
  },
  "language_info": {
   "codemirror_mode": {
    "name": "ipython",
    "version": 3
   },
   "file_extension": ".py",
   "mimetype": "text/x-python",
   "name": "python",
   "nbconvert_exporter": "python",
   "pygments_lexer": "ipython3",
   "version": "3.8.8"
  },
  "orig_nbformat": 4
 },
 "nbformat": 4,
 "nbformat_minor": 2
}
