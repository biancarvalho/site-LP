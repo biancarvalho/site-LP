{
 "cells": [
  {
   "cell_type": "code",
   "execution_count": null,
   "metadata": {},
   "outputs": [],
   "source": [
    "#!pip install pandas\n",
    "#!pip install faker"
   ]
  },
  {
   "cell_type": "code",
   "execution_count": 71,
   "metadata": {},
   "outputs": [],
   "source": [
    "import sqlite3\n",
    "from faker import Faker\n",
    "from random import randint, choice\n",
    "import pandas as pd"
   ]
  },
  {
   "cell_type": "code",
   "execution_count": 9,
   "metadata": {},
   "outputs": [],
   "source": [
    "fake = Faker('pt_BR')"
   ]
  },
  {
   "cell_type": "markdown",
   "metadata": {},
   "source": [
    "# Conectando e entendendo o banco criado pelo Django"
   ]
  },
  {
   "cell_type": "code",
   "execution_count": 98,
   "metadata": {},
   "outputs": [],
   "source": [
    "conn = sqlite3.connect('db.sqlite3')"
   ]
  },
  {
   "cell_type": "code",
   "execution_count": 99,
   "metadata": {},
   "outputs": [],
   "source": [
    "cur = conn.cursor()"
   ]
  },
  {
   "cell_type": "markdown",
   "metadata": {},
   "source": [
    "## Vendo os nomes das tabelas que o Django criou"
   ]
  },
  {
   "cell_type": "code",
   "execution_count": 100,
   "metadata": {},
   "outputs": [
    {
     "name": "stdout",
     "output_type": "stream",
     "text": [
      "('django_migrations',)\n",
      "('auth_group_permissions',)\n",
      "('auth_user_groups',)\n",
      "('auth_user_user_permissions',)\n",
      "('django_admin_log',)\n",
      "('django_content_type',)\n",
      "('auth_permission',)\n",
      "('auth_group',)\n",
      "('auth_user',)\n",
      "('pages_interesses',)\n",
      "('django_session',)\n",
      "('pages_aluno',)\n",
      "('pages_aluno_interesses',)\n"
     ]
    }
   ],
   "source": [
    "query = '''\n",
    "SELECT name\n",
    "FROM sqlite_master \n",
    "WHERE type ='table' AND name NOT LIKE 'sqlite_%';\n",
    "'''\n",
    "\n",
    "cur.execute(query)\n",
    "for c in cur.fetchall():\n",
    "    print(c)"
   ]
  },
  {
   "cell_type": "markdown",
   "metadata": {},
   "source": [
    "## Acessando cada tabela"
   ]
  },
  {
   "cell_type": "code",
   "execution_count": 17,
   "metadata": {},
   "outputs": [
    {
     "data": {
      "text/html": [
       "<div>\n",
       "<style scoped>\n",
       "    .dataframe tbody tr th:only-of-type {\n",
       "        vertical-align: middle;\n",
       "    }\n",
       "\n",
       "    .dataframe tbody tr th {\n",
       "        vertical-align: top;\n",
       "    }\n",
       "\n",
       "    .dataframe thead th {\n",
       "        text-align: right;\n",
       "    }\n",
       "</style>\n",
       "<table border=\"1\" class=\"dataframe\">\n",
       "  <thead>\n",
       "    <tr style=\"text-align: right;\">\n",
       "      <th></th>\n",
       "      <th>id</th>\n",
       "      <th>categoria</th>\n",
       "      <th>grau</th>\n",
       "      <th>nome</th>\n",
       "    </tr>\n",
       "  </thead>\n",
       "  <tbody>\n",
       "    <tr>\n",
       "      <th>0</th>\n",
       "      <td>1</td>\n",
       "      <td>Arte</td>\n",
       "      <td>1</td>\n",
       "      <td>Música</td>\n",
       "    </tr>\n",
       "    <tr>\n",
       "      <th>1</th>\n",
       "      <td>2</td>\n",
       "      <td>Arte</td>\n",
       "      <td>2</td>\n",
       "      <td>Música</td>\n",
       "    </tr>\n",
       "  </tbody>\n",
       "</table>\n",
       "</div>"
      ],
      "text/plain": [
       "   id categoria  grau    nome\n",
       "0   1      Arte     1  Música\n",
       "1   2      Arte     2  Música"
      ]
     },
     "execution_count": 17,
     "metadata": {},
     "output_type": "execute_result"
    }
   ],
   "source": [
    "df = pd.read_sql_query('SELECT * FROM pages_interesses', conn)\n",
    "df.head()"
   ]
  },
  {
   "cell_type": "code",
   "execution_count": 18,
   "metadata": {},
   "outputs": [
    {
     "data": {
      "text/html": [
       "<div>\n",
       "<style scoped>\n",
       "    .dataframe tbody tr th:only-of-type {\n",
       "        vertical-align: middle;\n",
       "    }\n",
       "\n",
       "    .dataframe tbody tr th {\n",
       "        vertical-align: top;\n",
       "    }\n",
       "\n",
       "    .dataframe thead th {\n",
       "        text-align: right;\n",
       "    }\n",
       "</style>\n",
       "<table border=\"1\" class=\"dataframe\">\n",
       "  <thead>\n",
       "    <tr style=\"text-align: right;\">\n",
       "      <th></th>\n",
       "      <th>id</th>\n",
       "      <th>nome</th>\n",
       "      <th>idade</th>\n",
       "      <th>sexo</th>\n",
       "      <th>curso</th>\n",
       "      <th>periodo</th>\n",
       "    </tr>\n",
       "  </thead>\n",
       "  <tbody>\n",
       "    <tr>\n",
       "      <th>0</th>\n",
       "      <td>1</td>\n",
       "      <td>Cristiano Larréa</td>\n",
       "      <td>20</td>\n",
       "      <td>M</td>\n",
       "      <td>Ciência de Dados e Inteligência Artificial</td>\n",
       "      <td>2</td>\n",
       "    </tr>\n",
       "  </tbody>\n",
       "</table>\n",
       "</div>"
      ],
      "text/plain": [
       "   id              nome  idade sexo  \\\n",
       "0   1  Cristiano Larréa     20    M   \n",
       "\n",
       "                                        curso  periodo  \n",
       "0  Ciência de Dados e Inteligência Artificial        2  "
      ]
     },
     "execution_count": 18,
     "metadata": {},
     "output_type": "execute_result"
    }
   ],
   "source": [
    "df = pd.read_sql_query('SELECT * FROM pages_aluno', conn)\n",
    "df.head()"
   ]
  },
  {
   "cell_type": "code",
   "execution_count": 19,
   "metadata": {},
   "outputs": [
    {
     "data": {
      "text/html": [
       "<div>\n",
       "<style scoped>\n",
       "    .dataframe tbody tr th:only-of-type {\n",
       "        vertical-align: middle;\n",
       "    }\n",
       "\n",
       "    .dataframe tbody tr th {\n",
       "        vertical-align: top;\n",
       "    }\n",
       "\n",
       "    .dataframe thead th {\n",
       "        text-align: right;\n",
       "    }\n",
       "</style>\n",
       "<table border=\"1\" class=\"dataframe\">\n",
       "  <thead>\n",
       "    <tr style=\"text-align: right;\">\n",
       "      <th></th>\n",
       "      <th>id</th>\n",
       "      <th>aluno_id</th>\n",
       "      <th>interesses_id</th>\n",
       "    </tr>\n",
       "  </thead>\n",
       "  <tbody>\n",
       "    <tr>\n",
       "      <th>0</th>\n",
       "      <td>1</td>\n",
       "      <td>1</td>\n",
       "      <td>1</td>\n",
       "    </tr>\n",
       "  </tbody>\n",
       "</table>\n",
       "</div>"
      ],
      "text/plain": [
       "   id  aluno_id  interesses_id\n",
       "0   1         1              1"
      ]
     },
     "execution_count": 19,
     "metadata": {},
     "output_type": "execute_result"
    }
   ],
   "source": [
    "df = pd.read_sql_query('SELECT * FROM pages_aluno_interesses', conn)\n",
    "df.head()\n"
   ]
  },
  {
   "cell_type": "markdown",
   "metadata": {},
   "source": [
    "## Zerando os dados das tabelas"
   ]
  },
  {
   "cell_type": "code",
   "execution_count": 165,
   "metadata": {},
   "outputs": [
    {
     "data": {
      "text/plain": [
       "<sqlite3.Cursor at 0x1d9ce501730>"
      ]
     },
     "execution_count": 165,
     "metadata": {},
     "output_type": "execute_result"
    }
   ],
   "source": [
    "cur.execute('DELETE FROM pages_interesses')\n",
    "cur.execute('DELETE FROM pages_aluno')\n",
    "cur.execute('DELETE FROM pages_aluno_interesses')"
   ]
  },
  {
   "cell_type": "code",
   "execution_count": 166,
   "metadata": {},
   "outputs": [],
   "source": [
    "cur.execute(\"SELECT * FROM pages_aluno\")\n",
    "for c in cur.fetchmany(15):\n",
    "    print(c)"
   ]
  },
  {
   "cell_type": "code",
   "execution_count": 167,
   "metadata": {},
   "outputs": [],
   "source": [
    "cur.execute(\"SELECT * FROM pages_interesses\")\n",
    "for c in cur.fetchmany(15):\n",
    "    print(c)"
   ]
  },
  {
   "cell_type": "code",
   "execution_count": 168,
   "metadata": {},
   "outputs": [],
   "source": [
    "cur.execute(\"SELECT * FROM pages_aluno_interesses\")\n",
    "for c in cur.fetchmany(15):\n",
    "    print(c)"
   ]
  },
  {
   "cell_type": "markdown",
   "metadata": {},
   "source": [
    "# Criando dados fakes"
   ]
  },
  {
   "cell_type": "markdown",
   "metadata": {},
   "source": [
    "## Tabela pages_interesses"
   ]
  },
  {
   "cell_type": "code",
   "execution_count": 137,
   "metadata": {},
   "outputs": [],
   "source": [
    "categorias = []\n",
    "categorias.extend(['Arte']*6)\n",
    "categorias.extend(['Esporte']*10)\n",
    "categorias.extend(['Entretenimento']*5)\n",
    "categorias.extend(['Estilos de Música']*12)\n",
    "categorias.extend(['Social']*9)"
   ]
  },
  {
   "cell_type": "code",
   "execution_count": 138,
   "metadata": {},
   "outputs": [],
   "source": [
    "nomes = ['Musica', 'Dança', 'Literatura', 'Museu', 'Cinema', 'Teatro',\n",
    "'Xadrez', 'Volei', 'Futebol', 'Handbol', 'Basquete', 'Tenis de Mesa', 'Natação', 'Crossfit', 'Musculação', 'Golfe',\n",
    "'Jogos', 'Séries', 'Filmes', 'Novelas', 'Livros',\n",
    "'Pop', 'Samba', 'Pagode', 'Sertanejo', 'R&B', 'Jazz', 'Blues', 'Piseiro', 'KPOP', 'Funk', 'Rap', 'Trap',\n",
    "'Festas', 'Boate', 'Churrasco', 'Roda de Samba', 'Passeio no Parque', 'Praia', 'Trilha', 'Piquenique', 'Montanhas']\n"
   ]
  },
  {
   "cell_type": "code",
   "execution_count": 139,
   "metadata": {},
   "outputs": [],
   "source": [
    "graus = []\n",
    "graus.extend([1]*42)\n",
    "graus.extend([2]*42)\n",
    "graus.extend([3]*42)\n",
    "graus.extend([4]*42)\n",
    "graus.extend([5]*42)"
   ]
  },
  {
   "cell_type": "code",
   "execution_count": 140,
   "metadata": {},
   "outputs": [],
   "source": [
    "ids = range(1,211)"
   ]
  },
  {
   "cell_type": "code",
   "execution_count": 141,
   "metadata": {},
   "outputs": [],
   "source": [
    "categorias.extend(categorias*4)\n",
    "nomes.extend(nomes*4)"
   ]
  },
  {
   "cell_type": "code",
   "execution_count": 142,
   "metadata": {},
   "outputs": [],
   "source": [
    "interesses = {\n",
    "    'id': ids,\n",
    "    'categoria': categorias,\n",
    "    'grau': graus,\n",
    "    'nome': nomes\n",
    "}\n",
    "df_int = pd.DataFrame(interesses)\n"
   ]
  },
  {
   "cell_type": "code",
   "execution_count": 143,
   "metadata": {},
   "outputs": [
    {
     "data": {
      "text/html": [
       "<div>\n",
       "<style scoped>\n",
       "    .dataframe tbody tr th:only-of-type {\n",
       "        vertical-align: middle;\n",
       "    }\n",
       "\n",
       "    .dataframe tbody tr th {\n",
       "        vertical-align: top;\n",
       "    }\n",
       "\n",
       "    .dataframe thead th {\n",
       "        text-align: right;\n",
       "    }\n",
       "</style>\n",
       "<table border=\"1\" class=\"dataframe\">\n",
       "  <thead>\n",
       "    <tr style=\"text-align: right;\">\n",
       "      <th></th>\n",
       "      <th>id</th>\n",
       "      <th>categoria</th>\n",
       "      <th>grau</th>\n",
       "      <th>nome</th>\n",
       "    </tr>\n",
       "  </thead>\n",
       "  <tbody>\n",
       "    <tr>\n",
       "      <th>0</th>\n",
       "      <td>1</td>\n",
       "      <td>Arte</td>\n",
       "      <td>1</td>\n",
       "      <td>Musica</td>\n",
       "    </tr>\n",
       "    <tr>\n",
       "      <th>1</th>\n",
       "      <td>2</td>\n",
       "      <td>Arte</td>\n",
       "      <td>1</td>\n",
       "      <td>Dança</td>\n",
       "    </tr>\n",
       "    <tr>\n",
       "      <th>2</th>\n",
       "      <td>3</td>\n",
       "      <td>Arte</td>\n",
       "      <td>1</td>\n",
       "      <td>Literatura</td>\n",
       "    </tr>\n",
       "    <tr>\n",
       "      <th>3</th>\n",
       "      <td>4</td>\n",
       "      <td>Arte</td>\n",
       "      <td>1</td>\n",
       "      <td>Museu</td>\n",
       "    </tr>\n",
       "    <tr>\n",
       "      <th>4</th>\n",
       "      <td>5</td>\n",
       "      <td>Arte</td>\n",
       "      <td>1</td>\n",
       "      <td>Cinema</td>\n",
       "    </tr>\n",
       "    <tr>\n",
       "      <th>...</th>\n",
       "      <td>...</td>\n",
       "      <td>...</td>\n",
       "      <td>...</td>\n",
       "      <td>...</td>\n",
       "    </tr>\n",
       "    <tr>\n",
       "      <th>205</th>\n",
       "      <td>206</td>\n",
       "      <td>Social</td>\n",
       "      <td>5</td>\n",
       "      <td>Passeio no Parque</td>\n",
       "    </tr>\n",
       "    <tr>\n",
       "      <th>206</th>\n",
       "      <td>207</td>\n",
       "      <td>Social</td>\n",
       "      <td>5</td>\n",
       "      <td>Praia</td>\n",
       "    </tr>\n",
       "    <tr>\n",
       "      <th>207</th>\n",
       "      <td>208</td>\n",
       "      <td>Social</td>\n",
       "      <td>5</td>\n",
       "      <td>Trilha</td>\n",
       "    </tr>\n",
       "    <tr>\n",
       "      <th>208</th>\n",
       "      <td>209</td>\n",
       "      <td>Social</td>\n",
       "      <td>5</td>\n",
       "      <td>Piquenique</td>\n",
       "    </tr>\n",
       "    <tr>\n",
       "      <th>209</th>\n",
       "      <td>210</td>\n",
       "      <td>Social</td>\n",
       "      <td>5</td>\n",
       "      <td>Montanhas</td>\n",
       "    </tr>\n",
       "  </tbody>\n",
       "</table>\n",
       "<p>210 rows × 4 columns</p>\n",
       "</div>"
      ],
      "text/plain": [
       "      id categoria  grau               nome\n",
       "0      1      Arte     1             Musica\n",
       "1      2      Arte     1              Dança\n",
       "2      3      Arte     1         Literatura\n",
       "3      4      Arte     1              Museu\n",
       "4      5      Arte     1             Cinema\n",
       "..   ...       ...   ...                ...\n",
       "205  206    Social     5  Passeio no Parque\n",
       "206  207    Social     5              Praia\n",
       "207  208    Social     5             Trilha\n",
       "208  209    Social     5         Piquenique\n",
       "209  210    Social     5          Montanhas\n",
       "\n",
       "[210 rows x 4 columns]"
      ]
     },
     "execution_count": 143,
     "metadata": {},
     "output_type": "execute_result"
    }
   ],
   "source": [
    "df_int"
   ]
  },
  {
   "cell_type": "markdown",
   "metadata": {},
   "source": [
    "## Tabela pages_alunos"
   ]
  },
  {
   "cell_type": "code",
   "execution_count": 144,
   "metadata": {},
   "outputs": [],
   "source": [
    "alunos = {\n",
    "    'id': [],\n",
    "    'nome':[],\n",
    "    'idade':[],\n",
    "    'sexo':[],\n",
    "    'curso':[],\n",
    "    'periodo':[]\n",
    "}\n",
    "\n",
    "\n",
    "for id in range(1,401):\n",
    "    alunos['id'].append(id)\n",
    "    alunos['nome'].append(fake.name())\n",
    "    alunos['idade'].append(randint(15,50))\n",
    "    alunos['sexo'].append(choice(['M','F']))\n",
    "    alunos['curso'].append(choice(['Ciência de Dados e Inteligência Artificial', 'Matemática Aplicada']))\n",
    "    alunos['periodo'].append(randint(1,8))"
   ]
  },
  {
   "cell_type": "code",
   "execution_count": 145,
   "metadata": {},
   "outputs": [],
   "source": [
    "df_alunos = pd.DataFrame(alunos)"
   ]
  },
  {
   "cell_type": "code",
   "execution_count": 146,
   "metadata": {},
   "outputs": [
    {
     "data": {
      "text/html": [
       "<div>\n",
       "<style scoped>\n",
       "    .dataframe tbody tr th:only-of-type {\n",
       "        vertical-align: middle;\n",
       "    }\n",
       "\n",
       "    .dataframe tbody tr th {\n",
       "        vertical-align: top;\n",
       "    }\n",
       "\n",
       "    .dataframe thead th {\n",
       "        text-align: right;\n",
       "    }\n",
       "</style>\n",
       "<table border=\"1\" class=\"dataframe\">\n",
       "  <thead>\n",
       "    <tr style=\"text-align: right;\">\n",
       "      <th></th>\n",
       "      <th>id</th>\n",
       "      <th>nome</th>\n",
       "      <th>idade</th>\n",
       "      <th>sexo</th>\n",
       "      <th>curso</th>\n",
       "      <th>periodo</th>\n",
       "    </tr>\n",
       "  </thead>\n",
       "  <tbody>\n",
       "    <tr>\n",
       "      <th>0</th>\n",
       "      <td>1</td>\n",
       "      <td>Bianca Cardoso</td>\n",
       "      <td>20</td>\n",
       "      <td>F</td>\n",
       "      <td>Ciência de Dados e Inteligência Artificial</td>\n",
       "      <td>2</td>\n",
       "    </tr>\n",
       "    <tr>\n",
       "      <th>1</th>\n",
       "      <td>2</td>\n",
       "      <td>Cauê Moraes</td>\n",
       "      <td>18</td>\n",
       "      <td>M</td>\n",
       "      <td>Matemática Aplicada</td>\n",
       "      <td>2</td>\n",
       "    </tr>\n",
       "    <tr>\n",
       "      <th>2</th>\n",
       "      <td>3</td>\n",
       "      <td>Milena da Costa</td>\n",
       "      <td>17</td>\n",
       "      <td>F</td>\n",
       "      <td>Matemática Aplicada</td>\n",
       "      <td>4</td>\n",
       "    </tr>\n",
       "    <tr>\n",
       "      <th>3</th>\n",
       "      <td>4</td>\n",
       "      <td>Daniela Correia</td>\n",
       "      <td>46</td>\n",
       "      <td>F</td>\n",
       "      <td>Ciência de Dados e Inteligência Artificial</td>\n",
       "      <td>6</td>\n",
       "    </tr>\n",
       "    <tr>\n",
       "      <th>4</th>\n",
       "      <td>5</td>\n",
       "      <td>Maria Luiza Ferreira</td>\n",
       "      <td>29</td>\n",
       "      <td>F</td>\n",
       "      <td>Ciência de Dados e Inteligência Artificial</td>\n",
       "      <td>2</td>\n",
       "    </tr>\n",
       "    <tr>\n",
       "      <th>...</th>\n",
       "      <td>...</td>\n",
       "      <td>...</td>\n",
       "      <td>...</td>\n",
       "      <td>...</td>\n",
       "      <td>...</td>\n",
       "      <td>...</td>\n",
       "    </tr>\n",
       "    <tr>\n",
       "      <th>395</th>\n",
       "      <td>396</td>\n",
       "      <td>Julia Castro</td>\n",
       "      <td>28</td>\n",
       "      <td>F</td>\n",
       "      <td>Matemática Aplicada</td>\n",
       "      <td>1</td>\n",
       "    </tr>\n",
       "    <tr>\n",
       "      <th>396</th>\n",
       "      <td>397</td>\n",
       "      <td>Davi Luiz Silveira</td>\n",
       "      <td>29</td>\n",
       "      <td>F</td>\n",
       "      <td>Matemática Aplicada</td>\n",
       "      <td>4</td>\n",
       "    </tr>\n",
       "    <tr>\n",
       "      <th>397</th>\n",
       "      <td>398</td>\n",
       "      <td>Lorenzo Costela</td>\n",
       "      <td>41</td>\n",
       "      <td>F</td>\n",
       "      <td>Ciência de Dados e Inteligência Artificial</td>\n",
       "      <td>3</td>\n",
       "    </tr>\n",
       "    <tr>\n",
       "      <th>398</th>\n",
       "      <td>399</td>\n",
       "      <td>Ana Júlia Caldeira</td>\n",
       "      <td>43</td>\n",
       "      <td>F</td>\n",
       "      <td>Matemática Aplicada</td>\n",
       "      <td>4</td>\n",
       "    </tr>\n",
       "    <tr>\n",
       "      <th>399</th>\n",
       "      <td>400</td>\n",
       "      <td>Henrique da Mata</td>\n",
       "      <td>48</td>\n",
       "      <td>F</td>\n",
       "      <td>Matemática Aplicada</td>\n",
       "      <td>3</td>\n",
       "    </tr>\n",
       "  </tbody>\n",
       "</table>\n",
       "<p>400 rows × 6 columns</p>\n",
       "</div>"
      ],
      "text/plain": [
       "      id                  nome  idade sexo  \\\n",
       "0      1        Bianca Cardoso     20    F   \n",
       "1      2           Cauê Moraes     18    M   \n",
       "2      3       Milena da Costa     17    F   \n",
       "3      4       Daniela Correia     46    F   \n",
       "4      5  Maria Luiza Ferreira     29    F   \n",
       "..   ...                   ...    ...  ...   \n",
       "395  396          Julia Castro     28    F   \n",
       "396  397    Davi Luiz Silveira     29    F   \n",
       "397  398       Lorenzo Costela     41    F   \n",
       "398  399    Ana Júlia Caldeira     43    F   \n",
       "399  400      Henrique da Mata     48    F   \n",
       "\n",
       "                                          curso  periodo  \n",
       "0    Ciência de Dados e Inteligência Artificial        2  \n",
       "1                           Matemática Aplicada        2  \n",
       "2                           Matemática Aplicada        4  \n",
       "3    Ciência de Dados e Inteligência Artificial        6  \n",
       "4    Ciência de Dados e Inteligência Artificial        2  \n",
       "..                                          ...      ...  \n",
       "395                         Matemática Aplicada        1  \n",
       "396                         Matemática Aplicada        4  \n",
       "397  Ciência de Dados e Inteligência Artificial        3  \n",
       "398                         Matemática Aplicada        4  \n",
       "399                         Matemática Aplicada        3  \n",
       "\n",
       "[400 rows x 6 columns]"
      ]
     },
     "execution_count": 146,
     "metadata": {},
     "output_type": "execute_result"
    }
   ],
   "source": [
    "df_alunos"
   ]
  },
  {
   "cell_type": "markdown",
   "metadata": {},
   "source": [
    "## Tabela pages_interesses_alunos"
   ]
  },
  {
   "cell_type": "code",
   "execution_count": 147,
   "metadata": {},
   "outputs": [],
   "source": [
    "aluno_interesses = {\n",
    "    'id': [],\n",
    "    'aluno_id': [],\n",
    "    'interesses_id': []\n",
    "}"
   ]
  },
  {
   "cell_type": "code",
   "execution_count": 148,
   "metadata": {},
   "outputs": [],
   "source": [
    "for id in range(1, 1501):\n",
    "    aluno_interesses['id'].append(id),\n",
    "    aluno_interesses['aluno_id'].append(randint(1,400)),\n",
    "    aluno_interesses['interesses_id'].append(randint(1,210))"
   ]
  },
  {
   "cell_type": "code",
   "execution_count": 149,
   "metadata": {},
   "outputs": [
    {
     "data": {
      "text/html": [
       "<div>\n",
       "<style scoped>\n",
       "    .dataframe tbody tr th:only-of-type {\n",
       "        vertical-align: middle;\n",
       "    }\n",
       "\n",
       "    .dataframe tbody tr th {\n",
       "        vertical-align: top;\n",
       "    }\n",
       "\n",
       "    .dataframe thead th {\n",
       "        text-align: right;\n",
       "    }\n",
       "</style>\n",
       "<table border=\"1\" class=\"dataframe\">\n",
       "  <thead>\n",
       "    <tr style=\"text-align: right;\">\n",
       "      <th></th>\n",
       "      <th>id</th>\n",
       "      <th>aluno_id</th>\n",
       "      <th>interesses_id</th>\n",
       "    </tr>\n",
       "  </thead>\n",
       "  <tbody>\n",
       "    <tr>\n",
       "      <th>0</th>\n",
       "      <td>1</td>\n",
       "      <td>220</td>\n",
       "      <td>26</td>\n",
       "    </tr>\n",
       "    <tr>\n",
       "      <th>1</th>\n",
       "      <td>2</td>\n",
       "      <td>72</td>\n",
       "      <td>151</td>\n",
       "    </tr>\n",
       "    <tr>\n",
       "      <th>2</th>\n",
       "      <td>3</td>\n",
       "      <td>103</td>\n",
       "      <td>57</td>\n",
       "    </tr>\n",
       "    <tr>\n",
       "      <th>3</th>\n",
       "      <td>4</td>\n",
       "      <td>329</td>\n",
       "      <td>92</td>\n",
       "    </tr>\n",
       "    <tr>\n",
       "      <th>4</th>\n",
       "      <td>5</td>\n",
       "      <td>286</td>\n",
       "      <td>13</td>\n",
       "    </tr>\n",
       "    <tr>\n",
       "      <th>...</th>\n",
       "      <td>...</td>\n",
       "      <td>...</td>\n",
       "      <td>...</td>\n",
       "    </tr>\n",
       "    <tr>\n",
       "      <th>1495</th>\n",
       "      <td>1496</td>\n",
       "      <td>254</td>\n",
       "      <td>191</td>\n",
       "    </tr>\n",
       "    <tr>\n",
       "      <th>1496</th>\n",
       "      <td>1497</td>\n",
       "      <td>4</td>\n",
       "      <td>185</td>\n",
       "    </tr>\n",
       "    <tr>\n",
       "      <th>1497</th>\n",
       "      <td>1498</td>\n",
       "      <td>156</td>\n",
       "      <td>84</td>\n",
       "    </tr>\n",
       "    <tr>\n",
       "      <th>1498</th>\n",
       "      <td>1499</td>\n",
       "      <td>168</td>\n",
       "      <td>108</td>\n",
       "    </tr>\n",
       "    <tr>\n",
       "      <th>1499</th>\n",
       "      <td>1500</td>\n",
       "      <td>252</td>\n",
       "      <td>112</td>\n",
       "    </tr>\n",
       "  </tbody>\n",
       "</table>\n",
       "<p>1500 rows × 3 columns</p>\n",
       "</div>"
      ],
      "text/plain": [
       "        id  aluno_id  interesses_id\n",
       "0        1       220             26\n",
       "1        2        72            151\n",
       "2        3       103             57\n",
       "3        4       329             92\n",
       "4        5       286             13\n",
       "...    ...       ...            ...\n",
       "1495  1496       254            191\n",
       "1496  1497         4            185\n",
       "1497  1498       156             84\n",
       "1498  1499       168            108\n",
       "1499  1500       252            112\n",
       "\n",
       "[1500 rows x 3 columns]"
      ]
     },
     "execution_count": 149,
     "metadata": {},
     "output_type": "execute_result"
    }
   ],
   "source": [
    "df_alunos_interesses = pd.DataFrame(aluno_interesses)\n",
    "df_alunos_interesses"
   ]
  },
  {
   "cell_type": "markdown",
   "metadata": {},
   "source": [
    "# Registrando dados no banco"
   ]
  },
  {
   "cell_type": "code",
   "execution_count": 169,
   "metadata": {},
   "outputs": [],
   "source": [
    "data_int = []\n",
    "for i in range(0,len(df_int)):\n",
    "    tuple = (int(df_int['id'][i]), str(df_int['categoria'][i]), int(df_int['grau'][i]), (str(df_int['nome'][i])))\n",
    "    data_int.append(tuple)"
   ]
  },
  {
   "cell_type": "code",
   "execution_count": 170,
   "metadata": {},
   "outputs": [
    {
     "data": {
      "text/plain": [
       "<sqlite3.Cursor at 0x1d9ce501730>"
      ]
     },
     "execution_count": 170,
     "metadata": {},
     "output_type": "execute_result"
    }
   ],
   "source": [
    "cur.executemany('INSERT INTO pages_interesses VALUES (?,?,?,?)', data_int)"
   ]
  },
  {
   "cell_type": "code",
   "execution_count": 171,
   "metadata": {},
   "outputs": [
    {
     "name": "stdout",
     "output_type": "stream",
     "text": [
      "(1, 'Arte', 1, 'Musica')\n",
      "(2, 'Arte', 1, 'Dança')\n",
      "(3, 'Arte', 1, 'Literatura')\n",
      "(4, 'Arte', 1, 'Museu')\n",
      "(5, 'Arte', 1, 'Cinema')\n",
      "(6, 'Arte', 1, 'Teatro')\n",
      "(7, 'Esporte', 1, 'Xadrez')\n",
      "(8, 'Esporte', 1, 'Volei')\n",
      "(9, 'Esporte', 1, 'Futebol')\n",
      "(10, 'Esporte', 1, 'Handbol')\n",
      "(11, 'Esporte', 1, 'Basquete')\n",
      "(12, 'Esporte', 1, 'Tenis de Mesa')\n",
      "(13, 'Esporte', 1, 'Natação')\n",
      "(14, 'Esporte', 1, 'Crossfit')\n",
      "(15, 'Esporte', 1, 'Musculação')\n"
     ]
    }
   ],
   "source": [
    "cur.execute(\"SELECT * FROM pages_interesses\")\n",
    "for c in cur.fetchmany(15):\n",
    "    print(c)"
   ]
  },
  {
   "cell_type": "code",
   "execution_count": 172,
   "metadata": {},
   "outputs": [],
   "source": [
    "data_alunos = []\n",
    "for i in range(0,len(df_alunos)):\n",
    "    tuple = (int(df_alunos['id'][i]), str(df_alunos['nome'][i]), str(df_alunos['sexo'][i]), int(df_alunos['idade'][i]), str(df_alunos['curso'][i]), int(df_alunos['periodo'][i]))\n",
    "    data_alunos.append(tuple)"
   ]
  },
  {
   "cell_type": "code",
   "execution_count": 173,
   "metadata": {},
   "outputs": [
    {
     "data": {
      "text/plain": [
       "<sqlite3.Cursor at 0x1d9ce501730>"
      ]
     },
     "execution_count": 173,
     "metadata": {},
     "output_type": "execute_result"
    }
   ],
   "source": [
    "cur.executemany('INSERT INTO pages_aluno VALUES (?,?,?,?,?,?)', data_alunos)"
   ]
  },
  {
   "cell_type": "code",
   "execution_count": 174,
   "metadata": {},
   "outputs": [
    {
     "name": "stdout",
     "output_type": "stream",
     "text": [
      "(1, 'Bianca Cardoso', 'F', '20', 'Ciência de Dados e Inteligência Artificial', 2)\n",
      "(2, 'Cauê Moraes', 'M', '18', 'Matemática Aplicada', 2)\n",
      "(3, 'Milena da Costa', 'F', '17', 'Matemática Aplicada', 4)\n",
      "(4, 'Daniela Correia', 'F', '46', 'Ciência de Dados e Inteligência Artificial', 6)\n",
      "(5, 'Maria Luiza Ferreira', 'F', '29', 'Ciência de Dados e Inteligência Artificial', 2)\n",
      "(6, 'Renan Pereira', 'M', '46', 'Matemática Aplicada', 6)\n",
      "(7, 'Luiz Henrique Vieira', 'F', '42', 'Ciência de Dados e Inteligência Artificial', 5)\n",
      "(8, 'Vicente Correia', 'M', '33', 'Matemática Aplicada', 1)\n",
      "(9, 'Ana Vitória Lopes', 'M', '15', 'Matemática Aplicada', 4)\n",
      "(10, 'Heloísa Alves', 'F', '15', 'Ciência de Dados e Inteligência Artificial', 8)\n",
      "(11, 'Luiz Fernando Caldeira', 'F', '24', 'Ciência de Dados e Inteligência Artificial', 3)\n",
      "(12, 'Clara Pires', 'F', '19', 'Matemática Aplicada', 4)\n",
      "(13, 'Srta. Júlia Ferreira', 'F', '38', 'Matemática Aplicada', 2)\n",
      "(14, 'Marcela da Rosa', 'F', '24', 'Matemática Aplicada', 7)\n",
      "(15, 'Gabriel Oliveira', 'M', '16', 'Matemática Aplicada', 6)\n"
     ]
    }
   ],
   "source": [
    "cur.execute(\"SELECT * FROM pages_aluno\")\n",
    "for c in cur.fetchmany(15):\n",
    "    print(c)"
   ]
  },
  {
   "cell_type": "code",
   "execution_count": 175,
   "metadata": {},
   "outputs": [],
   "source": [
    "data_int_alunos = []\n",
    "for i in range(0,len(df_alunos_interesses)):\n",
    "    tuple = (int(df_alunos_interesses['id'][i]), int(df_alunos_interesses['aluno_id'][i]), int(df_alunos_interesses['interesses_id'][i]))\n",
    "    data_int_alunos.append(tuple)"
   ]
  },
  {
   "cell_type": "code",
   "execution_count": 183,
   "metadata": {},
   "outputs": [
    {
     "ename": "IntegrityError",
     "evalue": "UNIQUE constraint failed: pages_aluno_interesses.id",
     "output_type": "error",
     "traceback": [
      "\u001b[1;31m---------------------------------------------------------------------------\u001b[0m",
      "\u001b[1;31mIntegrityError\u001b[0m                            Traceback (most recent call last)",
      "\u001b[1;32mC:\\Users\\CRISTI~1.LEA\\AppData\\Local\\Temp/ipykernel_24064/1851386515.py\u001b[0m in \u001b[0;36m<module>\u001b[1;34m\u001b[0m\n\u001b[1;32m----> 1\u001b[1;33m \u001b[0mcur\u001b[0m\u001b[1;33m.\u001b[0m\u001b[0mexecutemany\u001b[0m\u001b[1;33m(\u001b[0m\u001b[1;34m'INSERT INTO pages_aluno_interesses VALUES (?,?,?)'\u001b[0m\u001b[1;33m,\u001b[0m \u001b[0mdata_int_alunos\u001b[0m\u001b[1;33m)\u001b[0m\u001b[1;33m\u001b[0m\u001b[1;33m\u001b[0m\u001b[0m\n\u001b[0m",
      "\u001b[1;31mIntegrityError\u001b[0m: UNIQUE constraint failed: pages_aluno_interesses.id"
     ]
    }
   ],
   "source": [
    "cur.executemany('INSERT INTO pages_aluno_interesses VALUES (?,?,?)', data_int_alunos)"
   ]
  },
  {
   "cell_type": "markdown",
   "metadata": {},
   "source": [
    "Está aceitando só 270 registros!"
   ]
  },
  {
   "cell_type": "code",
   "execution_count": 189,
   "metadata": {},
   "outputs": [
    {
     "name": "stdout",
     "output_type": "stream",
     "text": [
      "(1, 220, 26)\n",
      "(2, 72, 151)\n",
      "(3, 103, 57)\n",
      "(4, 329, 92)\n",
      "(5, 286, 13)\n",
      "(6, 234, 169)\n",
      "(7, 64, 169)\n",
      "(8, 66, 36)\n",
      "(9, 167, 42)\n",
      "(10, 59, 166)\n",
      "(11, 54, 155)\n",
      "(12, 218, 4)\n",
      "(13, 8, 81)\n",
      "(14, 253, 124)\n",
      "(15, 164, 163)\n"
     ]
    }
   ],
   "source": [
    "cur.execute(\"SELECT * FROM pages_aluno_interesses\")\n",
    "for c in cur.fetchmany(15):\n",
    "    print(c)\n"
   ]
  },
  {
   "cell_type": "markdown",
   "metadata": {},
   "source": [
    "## Analisando estrutura da tabela pages_aluno_interesses"
   ]
  },
  {
   "cell_type": "code",
   "execution_count": 188,
   "metadata": {},
   "outputs": [
    {
     "name": "stdout",
     "output_type": "stream",
     "text": [
      "CREATE TABLE \"pages_aluno_interesses\" (\"id\" integer NOT NULL PRIMARY KEY AUTOINCREMENT, \"aluno_id\" bigint NOT NULL REFERENCES \"pages_aluno\" (\"id\") DEFERRABLE INITIALLY DEFERRED, \"interesses_id\" bigint NOT NULL REFERENCES \"pages_interesses\" (\"id\") DEFERRABLE INITIALLY DEFERRED)\n"
     ]
    }
   ],
   "source": [
    "query = '''\n",
    "SELECT sql\n",
    "FROM sqlite_master\n",
    "WHERE name = 'pages_aluno_interesses';\n",
    "'''\n",
    "\n",
    "cur.execute(query)\n",
    "for c in cur.fetchall():\n",
    "    print(c[0])"
   ]
  },
  {
   "cell_type": "code",
   "execution_count": 190,
   "metadata": {},
   "outputs": [],
   "source": [
    "conn.close()"
   ]
  }
 ],
 "metadata": {
  "interpreter": {
   "hash": "acf48dcef7adde6c697f97d4995469a9df8e0f5814466a26b0cffe11cb2c6fb0"
  },
  "kernelspec": {
   "display_name": "Python 3.8.8 64-bit ('venv': venv)",
   "language": "python",
   "name": "python3"
  },
  "language_info": {
   "codemirror_mode": {
    "name": "ipython",
    "version": 3
   },
   "file_extension": ".py",
   "mimetype": "text/x-python",
   "name": "python",
   "nbconvert_exporter": "python",
   "pygments_lexer": "ipython3",
   "version": "3.8.8"
  },
  "orig_nbformat": 4
 },
 "nbformat": 4,
 "nbformat_minor": 2
}
